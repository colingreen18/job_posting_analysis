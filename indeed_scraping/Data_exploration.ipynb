{
 "cells": [
  {
   "cell_type": "markdown",
   "metadata": {},
   "source": [
    "# Data Exploration"
   ]
  },
  {
   "cell_type": "code",
   "execution_count": 14,
   "metadata": {},
   "outputs": [],
   "source": [
    "import pandas as pd\n",
    "import numpy as np\n",
    "from matplotlib import pyplot as plt"
   ]
  },
  {
   "cell_type": "code",
   "execution_count": 15,
   "metadata": {},
   "outputs": [
    {
     "data": {
      "text/html": [
       "<div>\n",
       "<style scoped>\n",
       "    .dataframe tbody tr th:only-of-type {\n",
       "        vertical-align: middle;\n",
       "    }\n",
       "\n",
       "    .dataframe tbody tr th {\n",
       "        vertical-align: top;\n",
       "    }\n",
       "\n",
       "    .dataframe thead th {\n",
       "        text-align: right;\n",
       "    }\n",
       "</style>\n",
       "<table border=\"1\" class=\"dataframe\">\n",
       "  <thead>\n",
       "    <tr style=\"text-align: right;\">\n",
       "      <th></th>\n",
       "      <th>aarthiga</th>\n",
       "      <th>abap</th>\n",
       "      <th>abi</th>\n",
       "      <th>abide</th>\n",
       "      <th>abor</th>\n",
       "      <th>above</th>\n",
       "      <th>absences</th>\n",
       "      <th>absolute</th>\n",
       "      <th>abstraction</th>\n",
       "      <th>abstracts</th>\n",
       "      <th>...</th>\n",
       "      <th>zealand</th>\n",
       "      <th>zn</th>\n",
       "      <th>zos</th>\n",
       "      <th>zumba</th>\n",
       "      <th>zynga</th>\n",
       "      <th>zzybgllqg</th>\n",
       "      <th>âge</th>\n",
       "      <th>égard</th>\n",
       "      <th>équipes</th>\n",
       "      <th>will_apply</th>\n",
       "    </tr>\n",
       "  </thead>\n",
       "  <tbody>\n",
       "    <tr>\n",
       "      <th>0</th>\n",
       "      <td>0.0</td>\n",
       "      <td>0.0</td>\n",
       "      <td>0.0</td>\n",
       "      <td>0.0</td>\n",
       "      <td>0.0</td>\n",
       "      <td>0.0</td>\n",
       "      <td>0.0</td>\n",
       "      <td>0.0</td>\n",
       "      <td>0.0</td>\n",
       "      <td>0.0</td>\n",
       "      <td>...</td>\n",
       "      <td>0.0</td>\n",
       "      <td>0.0</td>\n",
       "      <td>0.0</td>\n",
       "      <td>0.0</td>\n",
       "      <td>0.0</td>\n",
       "      <td>0.0</td>\n",
       "      <td>0.0</td>\n",
       "      <td>0.0</td>\n",
       "      <td>0.0</td>\n",
       "      <td>0</td>\n",
       "    </tr>\n",
       "    <tr>\n",
       "      <th>1</th>\n",
       "      <td>0.0</td>\n",
       "      <td>0.0</td>\n",
       "      <td>0.0</td>\n",
       "      <td>0.0</td>\n",
       "      <td>0.0</td>\n",
       "      <td>0.0</td>\n",
       "      <td>0.0</td>\n",
       "      <td>0.0</td>\n",
       "      <td>0.0</td>\n",
       "      <td>0.0</td>\n",
       "      <td>...</td>\n",
       "      <td>0.0</td>\n",
       "      <td>0.0</td>\n",
       "      <td>0.0</td>\n",
       "      <td>0.0</td>\n",
       "      <td>0.0</td>\n",
       "      <td>0.0</td>\n",
       "      <td>0.0</td>\n",
       "      <td>0.0</td>\n",
       "      <td>0.0</td>\n",
       "      <td>1</td>\n",
       "    </tr>\n",
       "    <tr>\n",
       "      <th>2</th>\n",
       "      <td>0.0</td>\n",
       "      <td>0.0</td>\n",
       "      <td>0.0</td>\n",
       "      <td>0.0</td>\n",
       "      <td>0.0</td>\n",
       "      <td>0.0</td>\n",
       "      <td>0.0</td>\n",
       "      <td>0.0</td>\n",
       "      <td>0.0</td>\n",
       "      <td>0.0</td>\n",
       "      <td>...</td>\n",
       "      <td>0.0</td>\n",
       "      <td>0.0</td>\n",
       "      <td>0.0</td>\n",
       "      <td>0.0</td>\n",
       "      <td>0.0</td>\n",
       "      <td>0.0</td>\n",
       "      <td>0.0</td>\n",
       "      <td>0.0</td>\n",
       "      <td>0.0</td>\n",
       "      <td>0</td>\n",
       "    </tr>\n",
       "    <tr>\n",
       "      <th>3</th>\n",
       "      <td>0.0</td>\n",
       "      <td>0.0</td>\n",
       "      <td>0.0</td>\n",
       "      <td>0.0</td>\n",
       "      <td>0.0</td>\n",
       "      <td>0.0</td>\n",
       "      <td>0.0</td>\n",
       "      <td>0.0</td>\n",
       "      <td>0.0</td>\n",
       "      <td>0.0</td>\n",
       "      <td>...</td>\n",
       "      <td>0.0</td>\n",
       "      <td>0.0</td>\n",
       "      <td>0.0</td>\n",
       "      <td>0.0</td>\n",
       "      <td>0.0</td>\n",
       "      <td>0.0</td>\n",
       "      <td>0.0</td>\n",
       "      <td>0.0</td>\n",
       "      <td>0.0</td>\n",
       "      <td>0</td>\n",
       "    </tr>\n",
       "    <tr>\n",
       "      <th>4</th>\n",
       "      <td>0.0</td>\n",
       "      <td>0.0</td>\n",
       "      <td>0.0</td>\n",
       "      <td>0.0</td>\n",
       "      <td>0.0</td>\n",
       "      <td>0.0</td>\n",
       "      <td>0.0</td>\n",
       "      <td>0.0</td>\n",
       "      <td>0.0</td>\n",
       "      <td>0.0</td>\n",
       "      <td>...</td>\n",
       "      <td>0.0</td>\n",
       "      <td>0.0</td>\n",
       "      <td>0.0</td>\n",
       "      <td>0.0</td>\n",
       "      <td>0.0</td>\n",
       "      <td>0.0</td>\n",
       "      <td>0.0</td>\n",
       "      <td>0.0</td>\n",
       "      <td>0.0</td>\n",
       "      <td>0</td>\n",
       "    </tr>\n",
       "  </tbody>\n",
       "</table>\n",
       "<p>5 rows × 3870 columns</p>\n",
       "</div>"
      ],
      "text/plain": [
       "   aarthiga  abap  abi  abide  abor  above  absences  absolute  abstraction  \\\n",
       "0       0.0   0.0  0.0    0.0   0.0    0.0       0.0       0.0          0.0   \n",
       "1       0.0   0.0  0.0    0.0   0.0    0.0       0.0       0.0          0.0   \n",
       "2       0.0   0.0  0.0    0.0   0.0    0.0       0.0       0.0          0.0   \n",
       "3       0.0   0.0  0.0    0.0   0.0    0.0       0.0       0.0          0.0   \n",
       "4       0.0   0.0  0.0    0.0   0.0    0.0       0.0       0.0          0.0   \n",
       "\n",
       "   abstracts  ...  zealand   zn  zos  zumba  zynga  zzybgllqg  âge  égard  \\\n",
       "0        0.0  ...      0.0  0.0  0.0    0.0    0.0        0.0  0.0    0.0   \n",
       "1        0.0  ...      0.0  0.0  0.0    0.0    0.0        0.0  0.0    0.0   \n",
       "2        0.0  ...      0.0  0.0  0.0    0.0    0.0        0.0  0.0    0.0   \n",
       "3        0.0  ...      0.0  0.0  0.0    0.0    0.0        0.0  0.0    0.0   \n",
       "4        0.0  ...      0.0  0.0  0.0    0.0    0.0        0.0  0.0    0.0   \n",
       "\n",
       "   équipes  will_apply  \n",
       "0      0.0           0  \n",
       "1      0.0           1  \n",
       "2      0.0           0  \n",
       "3      0.0           0  \n",
       "4      0.0           0  \n",
       "\n",
       "[5 rows x 3870 columns]"
      ]
     },
     "execution_count": 15,
     "metadata": {},
     "output_type": "execute_result"
    }
   ],
   "source": [
    "tfidf_df = pd.read_csv('tfidf_df.csv')\n",
    "tfidf_df = tfidf_df.drop('Unnamed: 0', 1)\n",
    "tfidf_df.head()"
   ]
  },
  {
   "cell_type": "code",
   "execution_count": 39,
   "metadata": {},
   "outputs": [
    {
     "data": {
      "image/png": "[encoded data removed]",
      "text/plain": [
       "<Figure size 432x288 with 1 Axes>"
      ]
     },
     "metadata": {
      "needs_background": "light"
     },
     "output_type": "display_data"
    },
    {
     "name": "stdout",
     "output_type": "stream",
     "text": [
      "Will Apply:  115 ( 29.11 %)\n",
      "Will Not Apply:  280 ( 70.89 %)\n"
     ]
    }
   ],
   "source": [
    "height = (len(tfidf_df[tfidf_df['will_apply']==0]), len(tfidf_df[tfidf_df['will_apply']==1]))\n",
    "bars = ('Will Apply', 'Will Not Apply')\n",
    "plt.bar(bars, height)\n",
    "plt.title('Application Decision')\n",
    "plt.show()\n",
    "\n",
    "lenyes = len(tfidf_df[tfidf_df['will_apply']==1])\n",
    "lenno = len(tfidf_df[tfidf_df['will_apply']==0])\n",
    "\n",
    "print('Will Apply: ', lenno, '(', round(100*lenno/(lenno+lenyes), 2), '%)')\n",
    "print('Will Not Apply: ', lenyes, '(', round(100*lenyes/(lenno+lenyes), 2), '%)')"
   ]
  },
  {
   "cell_type": "markdown",
   "metadata": {},
   "source": [
    "## TFIDF Dataset"
   ]
  },
  {
   "cell_type": "code",
   "execution_count": 17,
   "metadata": {},
   "outputs": [],
   "source": [
    "tfidf_no = tfidf_df[tfidf_df['will_apply'] == 1]\n",
    "tfidf_yes = tfidf_df[tfidf_df['will_apply'] == 0]\n",
    "\n",
    "tfidf_yes = tfidf_yes.drop('will_apply', axis = 'columns')\n",
    "tfidf_no = tfidf_no.drop('will_apply', axis = 'columns')"
   ]
  },
  {
   "cell_type": "code",
   "execution_count": 18,
   "metadata": {},
   "outputs": [
    {
     "data": {
      "text/plain": [
       "<AxesSubplot:>"
      ]
     },
     "execution_count": 18,
     "metadata": {},
     "output_type": "execute_result"
    },
    {
     "data": {
      "image/png": "[encoded data removed]",
      "text/plain": [
       "<Figure size 432x288 with 1 Axes>"
      ]
     },
     "metadata": {
      "needs_background": "light"
     },
     "output_type": "display_data"
    }
   ],
   "source": [
    "tfidf_yes_count = tfidf_yes.sum()\n",
    "tfidf_yes_largest = tfidf_yes_count.nlargest(30)\n",
    "tfidf_yes_largest.plot(kind='bar')"
   ]
  },
  {
   "cell_type": "code",
   "execution_count": 19,
   "metadata": {},
   "outputs": [
    {
     "data": {
      "text/plain": [
       "<AxesSubplot:>"
      ]
     },
     "execution_count": 19,
     "metadata": {},
     "output_type": "execute_result"
    },
    {
     "data": {
      "image/png": "[encoded data removed]",
      "text/plain": [
       "<Figure size 432x288 with 1 Axes>"
      ]
     },
     "metadata": {
      "needs_background": "light"
     },
     "output_type": "display_data"
    }
   ],
   "source": [
    "tfidf_no_count = tfidf_no.sum()\n",
    "tfidf_no_largest = tfidf_no_count.nlargest(30)\n",
    "tfidf_no_largest.plot(kind='bar')"
   ]
  },
  {
   "cell_type": "markdown",
   "metadata": {},
   "source": [
    "## Bag of Words Dataset"
   ]
  },
  {
   "cell_type": "code",
   "execution_count": 20,
   "metadata": {},
   "outputs": [
    {
     "data": {
      "text/html": [
       "<div>\n",
       "<style scoped>\n",
       "    .dataframe tbody tr th:only-of-type {\n",
       "        vertical-align: middle;\n",
       "    }\n",
       "\n",
       "    .dataframe tbody tr th {\n",
       "        vertical-align: top;\n",
       "    }\n",
       "\n",
       "    .dataframe thead th {\n",
       "        text-align: right;\n",
       "    }\n",
       "</style>\n",
       "<table border=\"1\" class=\"dataframe\">\n",
       "  <thead>\n",
       "    <tr style=\"text-align: right;\">\n",
       "      <th></th>\n",
       "      <th>aarthiga</th>\n",
       "      <th>abap</th>\n",
       "      <th>abcellera</th>\n",
       "      <th>abi</th>\n",
       "      <th>abide</th>\n",
       "      <th>abilities</th>\n",
       "      <th>ability</th>\n",
       "      <th>able</th>\n",
       "      <th>abled</th>\n",
       "      <th>abor</th>\n",
       "      <th>...</th>\n",
       "      <th>zoom</th>\n",
       "      <th>zos</th>\n",
       "      <th>zumba</th>\n",
       "      <th>zynga</th>\n",
       "      <th>zzybgllqg</th>\n",
       "      <th>âge</th>\n",
       "      <th>égard</th>\n",
       "      <th>équipes</th>\n",
       "      <th>êtes</th>\n",
       "      <th>will_apply</th>\n",
       "    </tr>\n",
       "  </thead>\n",
       "  <tbody>\n",
       "    <tr>\n",
       "      <th>0</th>\n",
       "      <td>0</td>\n",
       "      <td>0</td>\n",
       "      <td>0</td>\n",
       "      <td>0</td>\n",
       "      <td>0</td>\n",
       "      <td>0</td>\n",
       "      <td>3</td>\n",
       "      <td>1</td>\n",
       "      <td>0</td>\n",
       "      <td>0</td>\n",
       "      <td>...</td>\n",
       "      <td>0</td>\n",
       "      <td>0</td>\n",
       "      <td>0</td>\n",
       "      <td>0</td>\n",
       "      <td>0</td>\n",
       "      <td>0</td>\n",
       "      <td>0</td>\n",
       "      <td>0</td>\n",
       "      <td>0</td>\n",
       "      <td>0</td>\n",
       "    </tr>\n",
       "    <tr>\n",
       "      <th>1</th>\n",
       "      <td>0</td>\n",
       "      <td>0</td>\n",
       "      <td>0</td>\n",
       "      <td>0</td>\n",
       "      <td>0</td>\n",
       "      <td>1</td>\n",
       "      <td>2</td>\n",
       "      <td>0</td>\n",
       "      <td>0</td>\n",
       "      <td>0</td>\n",
       "      <td>...</td>\n",
       "      <td>0</td>\n",
       "      <td>0</td>\n",
       "      <td>0</td>\n",
       "      <td>0</td>\n",
       "      <td>0</td>\n",
       "      <td>0</td>\n",
       "      <td>0</td>\n",
       "      <td>0</td>\n",
       "      <td>0</td>\n",
       "      <td>1</td>\n",
       "    </tr>\n",
       "    <tr>\n",
       "      <th>2</th>\n",
       "      <td>0</td>\n",
       "      <td>0</td>\n",
       "      <td>0</td>\n",
       "      <td>0</td>\n",
       "      <td>0</td>\n",
       "      <td>0</td>\n",
       "      <td>2</td>\n",
       "      <td>1</td>\n",
       "      <td>0</td>\n",
       "      <td>0</td>\n",
       "      <td>...</td>\n",
       "      <td>0</td>\n",
       "      <td>0</td>\n",
       "      <td>0</td>\n",
       "      <td>0</td>\n",
       "      <td>0</td>\n",
       "      <td>0</td>\n",
       "      <td>0</td>\n",
       "      <td>0</td>\n",
       "      <td>0</td>\n",
       "      <td>0</td>\n",
       "    </tr>\n",
       "    <tr>\n",
       "      <th>3</th>\n",
       "      <td>0</td>\n",
       "      <td>0</td>\n",
       "      <td>0</td>\n",
       "      <td>0</td>\n",
       "      <td>0</td>\n",
       "      <td>0</td>\n",
       "      <td>1</td>\n",
       "      <td>0</td>\n",
       "      <td>0</td>\n",
       "      <td>0</td>\n",
       "      <td>...</td>\n",
       "      <td>0</td>\n",
       "      <td>0</td>\n",
       "      <td>0</td>\n",
       "      <td>0</td>\n",
       "      <td>0</td>\n",
       "      <td>0</td>\n",
       "      <td>0</td>\n",
       "      <td>0</td>\n",
       "      <td>0</td>\n",
       "      <td>0</td>\n",
       "    </tr>\n",
       "    <tr>\n",
       "      <th>4</th>\n",
       "      <td>0</td>\n",
       "      <td>0</td>\n",
       "      <td>0</td>\n",
       "      <td>0</td>\n",
       "      <td>0</td>\n",
       "      <td>0</td>\n",
       "      <td>1</td>\n",
       "      <td>1</td>\n",
       "      <td>0</td>\n",
       "      <td>0</td>\n",
       "      <td>...</td>\n",
       "      <td>0</td>\n",
       "      <td>0</td>\n",
       "      <td>0</td>\n",
       "      <td>0</td>\n",
       "      <td>0</td>\n",
       "      <td>0</td>\n",
       "      <td>0</td>\n",
       "      <td>0</td>\n",
       "      <td>0</td>\n",
       "      <td>0</td>\n",
       "    </tr>\n",
       "  </tbody>\n",
       "</table>\n",
       "<p>5 rows × 9780 columns</p>\n",
       "</div>"
      ],
      "text/plain": [
       "   aarthiga  abap  abcellera  abi  abide  abilities  ability  able  abled  \\\n",
       "0         0     0          0    0      0          0        3     1      0   \n",
       "1         0     0          0    0      0          1        2     0      0   \n",
       "2         0     0          0    0      0          0        2     1      0   \n",
       "3         0     0          0    0      0          0        1     0      0   \n",
       "4         0     0          0    0      0          0        1     1      0   \n",
       "\n",
       "   abor  ...  zoom  zos  zumba  zynga  zzybgllqg  âge  égard  équipes  êtes  \\\n",
       "0     0  ...     0    0      0      0          0    0      0        0     0   \n",
       "1     0  ...     0    0      0      0          0    0      0        0     0   \n",
       "2     0  ...     0    0      0      0          0    0      0        0     0   \n",
       "3     0  ...     0    0      0      0          0    0      0        0     0   \n",
       "4     0  ...     0    0      0      0          0    0      0        0     0   \n",
       "\n",
       "   will_apply  \n",
       "0           0  \n",
       "1           1  \n",
       "2           0  \n",
       "3           0  \n",
       "4           0  \n",
       "\n",
       "[5 rows x 9780 columns]"
      ]
     },
     "execution_count": 20,
     "metadata": {},
     "output_type": "execute_result"
    }
   ],
   "source": [
    "cbow_df = pd.read_csv('bow_df.csv')\n",
    "cbow_df = cbow_df.drop('Unnamed: 0', 1)\n",
    "cbow_df.head()"
   ]
  },
  {
   "cell_type": "code",
   "execution_count": 21,
   "metadata": {},
   "outputs": [],
   "source": [
    "cbow_no = cbow_df[cbow_df['will_apply'] == 1]\n",
    "cbow_yes = cbow_df[cbow_df['will_apply'] == 0]\n",
    "\n",
    "cbow_yes = cbow_yes.drop('will_apply', axis = 'columns')\n",
    "cbow_no = cbow_no.drop('will_apply', axis = 'columns')"
   ]
  },
  {
   "cell_type": "code",
   "execution_count": 22,
   "metadata": {},
   "outputs": [
    {
     "data": {
      "text/plain": [
       "<AxesSubplot:>"
      ]
     },
     "execution_count": 22,
     "metadata": {},
     "output_type": "execute_result"
    },
    {
     "data": {
      "image/png": "[encoded data removed]",
      "text/plain": [
       "<Figure size 432x288 with 1 Axes>"
      ]
     },
     "metadata": {
      "needs_background": "light"
     },
     "output_type": "display_data"
    }
   ],
   "source": [
    "cbow_yes_count = cbow_yes.sum()\n",
    "cbow_yes_largest = cbow_yes_count.nlargest(30)\n",
    "cbow_yes_largest.plot(kind='bar')"
   ]
  },
  {
   "cell_type": "code",
   "execution_count": 23,
   "metadata": {},
   "outputs": [
    {
     "data": {
      "text/plain": [
       "<AxesSubplot:>"
      ]
     },
     "execution_count": 23,
     "metadata": {},
     "output_type": "execute_result"
    },
    {
     "data": {
      "image/png": "[encoded data removed]",
      "text/plain": [
       "<Figure size 432x288 with 1 Axes>"
      ]
     },
     "metadata": {
      "needs_background": "light"
     },
     "output_type": "display_data"
    }
   ],
   "source": [
    "cbow_no_count = cbow_no.sum()\n",
    "cbow_no_largest = cbow_no_count.nlargest(30)\n",
    "cbow_no_largest.plot(kind='bar')"
   ]
  },
  {
   "cell_type": "markdown",
   "metadata": {},
   "source": [
    "## NGrams Dataset"
   ]
  },
  {
   "cell_type": "code",
   "execution_count": 24,
   "metadata": {},
   "outputs": [
    {
     "data": {
      "text/html": [
       "<div>\n",
       "<style scoped>\n",
       "    .dataframe tbody tr th:only-of-type {\n",
       "        vertical-align: middle;\n",
       "    }\n",
       "\n",
       "    .dataframe tbody tr th {\n",
       "        vertical-align: top;\n",
       "    }\n",
       "\n",
       "    .dataframe thead th {\n",
       "        text-align: right;\n",
       "    }\n",
       "</style>\n",
       "<table border=\"1\" class=\"dataframe\">\n",
       "  <thead>\n",
       "    <tr style=\"text-align: right;\">\n",
       "      <th></th>\n",
       "      <th>aarthiga sivakumar</th>\n",
       "      <th>abap design</th>\n",
       "      <th>abap java</th>\n",
       "      <th>abcellera nat</th>\n",
       "      <th>abcellera we</th>\n",
       "      <th>abi ltd</th>\n",
       "      <th>abide applicable</th>\n",
       "      <th>abilities ability</th>\n",
       "      <th>abilities able</th>\n",
       "      <th>abilities competencies</th>\n",
       "      <th>...</th>\n",
       "      <th>zynga games</th>\n",
       "      <th>zynga leading</th>\n",
       "      <th>zynga poker</th>\n",
       "      <th>zynga provides</th>\n",
       "      <th>zynga stock</th>\n",
       "      <th>âge le</th>\n",
       "      <th>égard ethnie</th>\n",
       "      <th>équipes efficaces</th>\n",
       "      <th>êtes ouvert</th>\n",
       "      <th>will_apply</th>\n",
       "    </tr>\n",
       "  </thead>\n",
       "  <tbody>\n",
       "    <tr>\n",
       "      <th>0</th>\n",
       "      <td>0</td>\n",
       "      <td>0</td>\n",
       "      <td>0</td>\n",
       "      <td>0</td>\n",
       "      <td>0</td>\n",
       "      <td>0</td>\n",
       "      <td>0</td>\n",
       "      <td>0</td>\n",
       "      <td>0</td>\n",
       "      <td>0</td>\n",
       "      <td>...</td>\n",
       "      <td>0</td>\n",
       "      <td>0</td>\n",
       "      <td>0</td>\n",
       "      <td>0</td>\n",
       "      <td>0</td>\n",
       "      <td>0</td>\n",
       "      <td>0</td>\n",
       "      <td>0</td>\n",
       "      <td>0</td>\n",
       "      <td>0</td>\n",
       "    </tr>\n",
       "    <tr>\n",
       "      <th>1</th>\n",
       "      <td>0</td>\n",
       "      <td>0</td>\n",
       "      <td>0</td>\n",
       "      <td>0</td>\n",
       "      <td>0</td>\n",
       "      <td>0</td>\n",
       "      <td>0</td>\n",
       "      <td>0</td>\n",
       "      <td>0</td>\n",
       "      <td>0</td>\n",
       "      <td>...</td>\n",
       "      <td>0</td>\n",
       "      <td>0</td>\n",
       "      <td>0</td>\n",
       "      <td>0</td>\n",
       "      <td>0</td>\n",
       "      <td>0</td>\n",
       "      <td>0</td>\n",
       "      <td>0</td>\n",
       "      <td>0</td>\n",
       "      <td>1</td>\n",
       "    </tr>\n",
       "    <tr>\n",
       "      <th>2</th>\n",
       "      <td>0</td>\n",
       "      <td>0</td>\n",
       "      <td>0</td>\n",
       "      <td>0</td>\n",
       "      <td>0</td>\n",
       "      <td>0</td>\n",
       "      <td>0</td>\n",
       "      <td>0</td>\n",
       "      <td>0</td>\n",
       "      <td>0</td>\n",
       "      <td>...</td>\n",
       "      <td>0</td>\n",
       "      <td>0</td>\n",
       "      <td>0</td>\n",
       "      <td>0</td>\n",
       "      <td>0</td>\n",
       "      <td>0</td>\n",
       "      <td>0</td>\n",
       "      <td>0</td>\n",
       "      <td>0</td>\n",
       "      <td>0</td>\n",
       "    </tr>\n",
       "    <tr>\n",
       "      <th>3</th>\n",
       "      <td>0</td>\n",
       "      <td>0</td>\n",
       "      <td>0</td>\n",
       "      <td>0</td>\n",
       "      <td>0</td>\n",
       "      <td>0</td>\n",
       "      <td>0</td>\n",
       "      <td>0</td>\n",
       "      <td>0</td>\n",
       "      <td>0</td>\n",
       "      <td>...</td>\n",
       "      <td>0</td>\n",
       "      <td>0</td>\n",
       "      <td>0</td>\n",
       "      <td>0</td>\n",
       "      <td>0</td>\n",
       "      <td>0</td>\n",
       "      <td>0</td>\n",
       "      <td>0</td>\n",
       "      <td>0</td>\n",
       "      <td>0</td>\n",
       "    </tr>\n",
       "    <tr>\n",
       "      <th>4</th>\n",
       "      <td>0</td>\n",
       "      <td>0</td>\n",
       "      <td>0</td>\n",
       "      <td>0</td>\n",
       "      <td>0</td>\n",
       "      <td>0</td>\n",
       "      <td>0</td>\n",
       "      <td>0</td>\n",
       "      <td>0</td>\n",
       "      <td>0</td>\n",
       "      <td>...</td>\n",
       "      <td>0</td>\n",
       "      <td>0</td>\n",
       "      <td>0</td>\n",
       "      <td>0</td>\n",
       "      <td>0</td>\n",
       "      <td>0</td>\n",
       "      <td>0</td>\n",
       "      <td>0</td>\n",
       "      <td>0</td>\n",
       "      <td>0</td>\n",
       "    </tr>\n",
       "  </tbody>\n",
       "</table>\n",
       "<p>5 rows × 87625 columns</p>\n",
       "</div>"
      ],
      "text/plain": [
       "   aarthiga sivakumar  abap design  abap java  abcellera nat  abcellera we  \\\n",
       "0                   0            0          0              0             0   \n",
       "1                   0            0          0              0             0   \n",
       "2                   0            0          0              0             0   \n",
       "3                   0            0          0              0             0   \n",
       "4                   0            0          0              0             0   \n",
       "\n",
       "   abi ltd  abide applicable  abilities ability  abilities able  \\\n",
       "0        0                 0                  0               0   \n",
       "1        0                 0                  0               0   \n",
       "2        0                 0                  0               0   \n",
       "3        0                 0                  0               0   \n",
       "4        0                 0                  0               0   \n",
       "\n",
       "   abilities competencies  ...  zynga games  zynga leading  zynga poker  \\\n",
       "0                       0  ...            0              0            0   \n",
       "1                       0  ...            0              0            0   \n",
       "2                       0  ...            0              0            0   \n",
       "3                       0  ...            0              0            0   \n",
       "4                       0  ...            0              0            0   \n",
       "\n",
       "   zynga provides  zynga stock  âge le  égard ethnie  équipes efficaces  \\\n",
       "0               0            0       0             0                  0   \n",
       "1               0            0       0             0                  0   \n",
       "2               0            0       0             0                  0   \n",
       "3               0            0       0             0                  0   \n",
       "4               0            0       0             0                  0   \n",
       "\n",
       "   êtes ouvert  will_apply  \n",
       "0            0           0  \n",
       "1            0           1  \n",
       "2            0           0  \n",
       "3            0           0  \n",
       "4            0           0  \n",
       "\n",
       "[5 rows x 87625 columns]"
      ]
     },
     "execution_count": 24,
     "metadata": {},
     "output_type": "execute_result"
    }
   ],
   "source": [
    "ngram_df = pd.read_csv('ngrams_df.csv')\n",
    "ngram_df = ngram_df.drop('Unnamed: 0', 1)\n",
    "ngram_df.head()"
   ]
  },
  {
   "cell_type": "code",
   "execution_count": 25,
   "metadata": {},
   "outputs": [],
   "source": [
    "ngram_no = ngram_df[ngram_df['will_apply'] == 1]\n",
    "ngram_yes = ngram_df[ngram_df['will_apply'] == 0]\n",
    "\n",
    "ngram_yes = ngram_yes.drop('will_apply', axis = 'columns')\n",
    "ngram_no = ngram_no.drop('will_apply', axis = 'columns')"
   ]
  },
  {
   "cell_type": "code",
   "execution_count": 26,
   "metadata": {},
   "outputs": [
    {
     "data": {
      "text/plain": [
       "<AxesSubplot:>"
      ]
     },
     "execution_count": 26,
     "metadata": {},
     "output_type": "execute_result"
    },
    {
     "data": {
      "image/png": "[encoded data removed]",
      "text/plain": [
       "<Figure size 432x288 with 1 Axes>"
      ]
     },
     "metadata": {
      "needs_background": "light"
     },
     "output_type": "display_data"
    }
   ],
   "source": [
    "ngram_yes_count = ngram_yes.sum()\n",
    "ngram_yes_largest = ngram_yes_count.nlargest(30)\n",
    "ngram_yes_largest.plot(kind='bar')"
   ]
  },
  {
   "cell_type": "code",
   "execution_count": 27,
   "metadata": {},
   "outputs": [
    {
     "data": {
      "text/plain": [
       "<AxesSubplot:>"
      ]
     },
     "execution_count": 27,
     "metadata": {},
     "output_type": "execute_result"
    },
    {
     "data": {
      "image/png": "[encoded data removed]",
      "text/plain": [
       "<Figure size 432x288 with 1 Axes>"
      ]
     },
     "metadata": {
      "needs_background": "light"
     },
     "output_type": "display_data"
    }
   ],
   "source": [
    "ngram_no_count = ngram_no.sum()\n",
    "ngram_no_largest = ngram_no_count.nlargest(30)\n",
    "ngram_no_largest.plot(kind='bar')"
   ]
  },
  {
   "cell_type": "markdown",
   "metadata": {},
   "source": [
    "## Benchmark using Random Forest, Logistic Regression, Decision Tree"
   ]
  },
  {
   "cell_type": "code",
   "execution_count": 51,
   "metadata": {},
   "outputs": [
    {
     "name": "stderr",
     "output_type": "stream",
     "text": [
      "C:\\Users\\green\\anaconda3\\envs\\machinelearning\\lib\\site-packages\\sklearn\\metrics\\_classification.py:1221: UndefinedMetricWarning: Precision and F-score are ill-defined and being set to 0.0 in labels with no predicted samples. Use `zero_division` parameter to control this behavior.\n",
      "  _warn_prf(average, modifier, msg_start, len(result))\n"
     ]
    },
    {
     "name": "stdout",
     "output_type": "stream",
     "text": [
      "DecisionTreeClassifier()\n",
      "TFIDF\n",
      "              precision    recall  f1-score   support\n",
      "\n",
      "           0       0.00      0.00      0.00        20\n",
      "           1       0.75      1.00      0.86        59\n",
      "\n",
      "    accuracy                           0.75        79\n",
      "   macro avg       0.37      0.50      0.43        79\n",
      "weighted avg       0.56      0.75      0.64        79\n",
      "\n"
     ]
    },
    {
     "name": "stderr",
     "output_type": "stream",
     "text": [
      "C:\\Users\\green\\anaconda3\\envs\\machinelearning\\lib\\site-packages\\sklearn\\metrics\\_classification.py:1221: UndefinedMetricWarning: Precision and F-score are ill-defined and being set to 0.0 in labels with no predicted samples. Use `zero_division` parameter to control this behavior.\n",
      "  _warn_prf(average, modifier, msg_start, len(result))\n",
      "C:\\Users\\green\\anaconda3\\envs\\machinelearning\\lib\\site-packages\\sklearn\\metrics\\_classification.py:1221: UndefinedMetricWarning: Precision and F-score are ill-defined and being set to 0.0 in labels with no predicted samples. Use `zero_division` parameter to control this behavior.\n",
      "  _warn_prf(average, modifier, msg_start, len(result))\n"
     ]
    },
    {
     "name": "stdout",
     "output_type": "stream",
     "text": [
      "RandomForestClassifier()\n",
      "TFIDF\n",
      "              precision    recall  f1-score   support\n",
      "\n",
      "           0       0.00      0.00      0.00        20\n",
      "           1       0.75      1.00      0.86        59\n",
      "\n",
      "    accuracy                           0.75        79\n",
      "   macro avg       0.37      0.50      0.43        79\n",
      "weighted avg       0.56      0.75      0.64        79\n",
      "\n",
      "LogisticRegression()\n",
      "TFIDF\n",
      "              precision    recall  f1-score   support\n",
      "\n",
      "           0       0.00      0.00      0.00        20\n",
      "           1       0.75      1.00      0.86        59\n",
      "\n",
      "    accuracy                           0.75        79\n",
      "   macro avg       0.37      0.50      0.43        79\n",
      "weighted avg       0.56      0.75      0.64        79\n",
      "\n",
      "DecisionTreeClassifier()\n",
      "Bag of Words\n",
      "              precision    recall  f1-score   support\n",
      "\n",
      "           0       0.38      0.40      0.39        20\n",
      "           1       0.79      0.78      0.79        59\n",
      "\n",
      "    accuracy                           0.68        79\n",
      "   macro avg       0.59      0.59      0.59        79\n",
      "weighted avg       0.69      0.68      0.69        79\n",
      "\n",
      "RandomForestClassifier()\n",
      "Bag of Words\n",
      "              precision    recall  f1-score   support\n",
      "\n",
      "           0       0.17      0.05      0.08        20\n",
      "           1       0.74      0.92      0.82        59\n",
      "\n",
      "    accuracy                           0.70        79\n",
      "   macro avg       0.45      0.48      0.45        79\n",
      "weighted avg       0.59      0.70      0.63        79\n",
      "\n"
     ]
    },
    {
     "name": "stderr",
     "output_type": "stream",
     "text": [
      "C:\\Users\\green\\anaconda3\\envs\\machinelearning\\lib\\site-packages\\sklearn\\linear_model\\_logistic.py:764: ConvergenceWarning: lbfgs failed to converge (status=1):\n",
      "STOP: TOTAL NO. of ITERATIONS REACHED LIMIT.\n",
      "\n",
      "Increase the number of iterations (max_iter) or scale the data as shown in:\n",
      "    https://scikit-learn.org/stable/modules/preprocessing.html\n",
      "Please also refer to the documentation for alternative solver options:\n",
      "    https://scikit-learn.org/stable/modules/linear_model.html#logistic-regression\n",
      "  extra_warning_msg=_LOGISTIC_SOLVER_CONVERGENCE_MSG)\n"
     ]
    },
    {
     "name": "stdout",
     "output_type": "stream",
     "text": [
      "LogisticRegression()\n",
      "Bag of Words\n",
      "              precision    recall  f1-score   support\n",
      "\n",
      "           0       0.64      0.35      0.45        20\n",
      "           1       0.81      0.93      0.87        59\n",
      "\n",
      "    accuracy                           0.78        79\n",
      "   macro avg       0.72      0.64      0.66        79\n",
      "weighted avg       0.77      0.78      0.76        79\n",
      "\n",
      "DecisionTreeClassifier()\n",
      "nGrams\n",
      "              precision    recall  f1-score   support\n",
      "\n",
      "           0       0.50      0.45      0.47        20\n",
      "           1       0.82      0.85      0.83        59\n",
      "\n",
      "    accuracy                           0.75        79\n",
      "   macro avg       0.66      0.65      0.65        79\n",
      "weighted avg       0.74      0.75      0.74        79\n",
      "\n",
      "RandomForestClassifier()\n",
      "nGrams\n",
      "              precision    recall  f1-score   support\n",
      "\n",
      "           0       0.50      0.10      0.17        20\n",
      "           1       0.76      0.97      0.85        59\n",
      "\n",
      "    accuracy                           0.75        79\n",
      "   macro avg       0.63      0.53      0.51        79\n",
      "weighted avg       0.69      0.75      0.68        79\n",
      "\n",
      "LogisticRegression()\n",
      "nGrams\n",
      "              precision    recall  f1-score   support\n",
      "\n",
      "           0       0.57      0.20      0.30        20\n",
      "           1       0.78      0.95      0.85        59\n",
      "\n",
      "    accuracy                           0.76        79\n",
      "   macro avg       0.67      0.57      0.58        79\n",
      "weighted avg       0.73      0.76      0.71        79\n",
      "\n"
     ]
    }
   ],
   "source": [
    "from sklearn.ensemble import RandomForestClassifier\n",
    "from sklearn.linear_model import LogisticRegression\n",
    "from sklearn.tree import DecisionTreeClassifier\n",
    "from sklearn.model_selection import train_test_split\n",
    "from sklearn.metrics import classification_report\n",
    "rf = RandomForestClassifier()\n",
    "lr = LogisticRegression()\n",
    "dt = DecisionTreeClassifier()\n",
    "class_names = ['Will Apply', 'Will Not Apply']\n",
    "datasets = [tfidf_df, cbow_df, ngram_df]\n",
    "data_names = ['TFIDF', 'Bag of Words', 'nGrams']\n",
    "models = [dt, rf, lr]\n",
    "i = 0\n",
    "for df in datasets:\n",
    "    features = df.drop(columns = 'will_apply')\n",
    "    labels = df['will_apply']\n",
    "    X_train, X_test, y_train, y_test = train_test_split(features, labels, test_size = 0.2, random_state = 123)\n",
    "    for model in models:\n",
    "        y_pred = model.fit(X_train, y_train).predict(X_test)\n",
    "        report = classification_report(y_test, y_pred)\n",
    "        print(model)\n",
    "        print(data_names[i])\n",
    "        print(report)\n",
    "    i += 1"
   ]
  },
  {
   "cell_type": "markdown",
   "metadata": {},
   "source": [
    "### Check out feature importance for top 3 models to see what they were able to pull out"
   ]
  },
  {
   "cell_type": "code",
   "execution_count": 96,
   "metadata": {},
   "outputs": [],
   "source": [
    "model = LogisticRegression(max_iter=1000)\n",
    "\n",
    "features = ngram_df.drop(columns = 'will_apply')\n",
    "labels = ngram_df['will_apply']\n",
    "\n",
    "lr_ngram = model.fit(features, labels)"
   ]
  },
  {
   "cell_type": "code",
   "execution_count": 97,
   "metadata": {},
   "outputs": [],
   "source": [
    "importance = lr_ngram.coef_[0]"
   ]
  },
  {
   "cell_type": "code",
   "execution_count": 98,
   "metadata": {},
   "outputs": [],
   "source": [
    "ngram_importance = dict(zip(features, importance))"
   ]
  },
  {
   "cell_type": "code",
   "execution_count": 99,
   "metadata": {},
   "outputs": [],
   "source": [
    "top_ten = {}\n",
    "bottom_ten = {}\n",
    "while len(top_ten) < 11:\n",
    "    max_key = max(ngram_importance, key=ngram_importance.get)\n",
    "    max_value = max(ngram_importance.values())\n",
    "    top_ten[max_key] = max_value\n",
    "    del ngram_importance[max_key]\n",
    "    \n",
    "    min_key = min(ngram_importance, key=ngram_importance.get)\n",
    "    min_value = min(ngram_importance.values())\n",
    "    bottom_ten[min_key] = min_value\n",
    "    del ngram_importance[min_key]"
   ]
  },
  {
   "cell_type": "code",
   "execution_count": 100,
   "metadata": {
    "scrolled": true
   },
   "outputs": [
    {
     "data": {
      "text/plain": [
       "{'business analyst': 0.2603183151131334,\n",
       " 'full time': 0.2416592605368394,\n",
       " 'business requirements': 0.16628856716928722,\n",
       " 'per hour': 0.16380441702462295,\n",
       " 'business analysis': 0.16271602706472113,\n",
       " 'written verbal': 0.16150285936582096,\n",
       " 'minimum years': 0.13026720277249298,\n",
       " 'related experience': 0.1281484944704213,\n",
       " 'artificial intelligence': 0.11775819381241068,\n",
       " 'data warehouse': 0.10654768525801134,\n",
       " 'able work': 0.1053517964789994}"
      ]
     },
     "execution_count": 100,
     "metadata": {},
     "output_type": "execute_result"
    }
   ],
   "source": [
    "top_ten"
   ]
  },
  {
   "cell_type": "code",
   "execution_count": 101,
   "metadata": {
    "scrolled": false
   },
   "outputs": [
    {
     "data": {
      "text/plain": [
       "{'data scientist': -0.5299624930802298,\n",
       " 'co op': -0.3379072737685055,\n",
       " 'data analysis': -0.3082761550254947,\n",
       " 'data quality': -0.27779783422579085,\n",
       " 'data science': -0.26410227016004073,\n",
       " 'data analyst': -0.26292559356670436,\n",
       " 'supply chain': -0.2555042425177011,\n",
       " 'data visualization': -0.20486439781390076,\n",
       " 'business intelligence': -0.1873456025298397,\n",
       " 'marketing campaigns': -0.1715431071255467,\n",
       " 'data mining': -0.1672680258294555}"
      ]
     },
     "execution_count": 101,
     "metadata": {},
     "output_type": "execute_result"
    }
   ],
   "source": [
    "bottom_ten"
   ]
  },
  {
   "cell_type": "code",
   "execution_count": 102,
   "metadata": {},
   "outputs": [],
   "source": [
    "ngram_most_important = {**top_ten, **bottom_ten}"
   ]
  },
  {
   "cell_type": "code",
   "execution_count": 103,
   "metadata": {
    "scrolled": true
   },
   "outputs": [
    {
     "data": {
      "text/plain": [
       "{'business analyst': 0.2603183151131334,\n",
       " 'full time': 0.2416592605368394,\n",
       " 'business requirements': 0.16628856716928722,\n",
       " 'per hour': 0.16380441702462295,\n",
       " 'business analysis': 0.16271602706472113,\n",
       " 'written verbal': 0.16150285936582096,\n",
       " 'minimum years': 0.13026720277249298,\n",
       " 'related experience': 0.1281484944704213,\n",
       " 'artificial intelligence': 0.11775819381241068,\n",
       " 'data warehouse': 0.10654768525801134,\n",
       " 'able work': 0.1053517964789994,\n",
       " 'data scientist': -0.5299624930802298,\n",
       " 'co op': -0.3379072737685055,\n",
       " 'data analysis': -0.3082761550254947,\n",
       " 'data quality': -0.27779783422579085,\n",
       " 'data science': -0.26410227016004073,\n",
       " 'data analyst': -0.26292559356670436,\n",
       " 'supply chain': -0.2555042425177011,\n",
       " 'data visualization': -0.20486439781390076,\n",
       " 'business intelligence': -0.1873456025298397,\n",
       " 'marketing campaigns': -0.1715431071255467,\n",
       " 'data mining': -0.1672680258294555}"
      ]
     },
     "execution_count": 103,
     "metadata": {},
     "output_type": "execute_result"
    }
   ],
   "source": [
    "ngram_most_important"
   ]
  },
  {
   "cell_type": "code",
   "execution_count": 104,
   "metadata": {
    "scrolled": true
   },
   "outputs": [
    {
     "data": {
      "image/png": "[encoded data removed]",
      "text/plain": [
       "<Figure size 432x288 with 1 Axes>"
      ]
     },
     "metadata": {
      "needs_background": "light"
     },
     "output_type": "display_data"
    }
   ],
   "source": [
    "most_important_values = list(ngram_most_important.values())\n",
    "most_important_features = list(ngram_most_important.keys())\n",
    "height = (most_important_values)\n",
    "bars = (most_important_features)\n",
    "plt.bar(bars, height)\n",
    "plt.title('Feature Importance - NGRAM Logistic Regression')\n",
    "plt.xticks(rotation=90)\n",
    "plt.show()"
   ]
  },
  {
   "cell_type": "code",
   "execution_count": 87,
   "metadata": {},
   "outputs": [],
   "source": [
    "model = LogisticRegression(max_iter=1000)\n",
    "\n",
    "features = cbow_df.drop(columns = 'will_apply')\n",
    "labels = cbow_df['will_apply']\n",
    "\n",
    "lr_cbow = model.fit(features, labels)"
   ]
  },
  {
   "cell_type": "code",
   "execution_count": 88,
   "metadata": {},
   "outputs": [],
   "source": [
    "importance = lr_cbow.coef_[0]"
   ]
  },
  {
   "cell_type": "code",
   "execution_count": 89,
   "metadata": {},
   "outputs": [],
   "source": [
    "cbow_importance = dict(zip(features, importance))"
   ]
  },
  {
   "cell_type": "code",
   "execution_count": 90,
   "metadata": {},
   "outputs": [],
   "source": [
    "top_ten = {}\n",
    "bottom_ten = {}\n",
    "while len(top_ten) < 11:\n",
    "    max_key = max(cbow_importance, key=cbow_importance.get)\n",
    "    max_value = max(cbow_importance.values())\n",
    "    top_ten[max_key] = max_value\n",
    "    del cbow_importance[max_key]\n",
    "    \n",
    "    min_key = min(cbow_importance, key=cbow_importance.get)\n",
    "    min_value = min(cbow_importance.values())\n",
    "    bottom_ten[min_key] = min_value\n",
    "    del cbow_importance[min_key]"
   ]
  },
  {
   "cell_type": "code",
   "execution_count": 91,
   "metadata": {},
   "outputs": [
    {
     "data": {
      "text/plain": [
       "{'strong': 0.38963940059880514,\n",
       " 'experience': 0.34443293868950986,\n",
       " 'drive': 0.27662885786993485,\n",
       " 'reports': 0.27646811640784164,\n",
       " 'related': 0.27611096179510236,\n",
       " 'future': 0.2660593106521515,\n",
       " 'ai': 0.25242422161439976,\n",
       " 'bi': 0.23147622467259646,\n",
       " 'sap': 0.2168528282134317,\n",
       " 'including': 0.20807110677284024,\n",
       " 'requirements': 0.2028052464310959}"
      ]
     },
     "execution_count": 91,
     "metadata": {},
     "output_type": "execute_result"
    }
   ],
   "source": [
    "top_ten"
   ]
  },
  {
   "cell_type": "code",
   "execution_count": 92,
   "metadata": {},
   "outputs": [
    {
     "data": {
      "text/plain": [
       "{'scientist': -0.46032802759604735,\n",
       " 'python': -0.3611640048870247,\n",
       " 'application': -0.32430882966573005,\n",
       " 'process': -0.289046101919342,\n",
       " 'findings': -0.28812895834464064,\n",
       " 'sql': -0.27718731911148636,\n",
       " 'interest': -0.27657291101545617,\n",
       " 'program': -0.2738277362828323,\n",
       " 'quality': -0.2716745022826928,\n",
       " 'performance': -0.26484427562507235,\n",
       " 'excel': -0.2488369453111447}"
      ]
     },
     "execution_count": 92,
     "metadata": {},
     "output_type": "execute_result"
    }
   ],
   "source": [
    "bottom_ten"
   ]
  },
  {
   "cell_type": "code",
   "execution_count": 93,
   "metadata": {},
   "outputs": [],
   "source": [
    "cbow_most_important = {**top_ten, **bottom_ten}"
   ]
  },
  {
   "cell_type": "code",
   "execution_count": 94,
   "metadata": {},
   "outputs": [
    {
     "data": {
      "text/plain": [
       "{'strong': 0.38963940059880514,\n",
       " 'experience': 0.34443293868950986,\n",
       " 'drive': 0.27662885786993485,\n",
       " 'reports': 0.27646811640784164,\n",
       " 'related': 0.27611096179510236,\n",
       " 'future': 0.2660593106521515,\n",
       " 'ai': 0.25242422161439976,\n",
       " 'bi': 0.23147622467259646,\n",
       " 'sap': 0.2168528282134317,\n",
       " 'including': 0.20807110677284024,\n",
       " 'requirements': 0.2028052464310959,\n",
       " 'scientist': -0.46032802759604735,\n",
       " 'python': -0.3611640048870247,\n",
       " 'application': -0.32430882966573005,\n",
       " 'process': -0.289046101919342,\n",
       " 'findings': -0.28812895834464064,\n",
       " 'sql': -0.27718731911148636,\n",
       " 'interest': -0.27657291101545617,\n",
       " 'program': -0.2738277362828323,\n",
       " 'quality': -0.2716745022826928,\n",
       " 'performance': -0.26484427562507235,\n",
       " 'excel': -0.2488369453111447}"
      ]
     },
     "execution_count": 94,
     "metadata": {},
     "output_type": "execute_result"
    }
   ],
   "source": [
    "cbow_most_important"
   ]
  },
  {
   "cell_type": "code",
   "execution_count": 105,
   "metadata": {
    "scrolled": false
   },
   "outputs": [
    {
     "data": {
      "image/png": "[encoded data removed]",
      "text/plain": [
       "<Figure size 432x288 with 1 Axes>"
      ]
     },
     "metadata": {
      "needs_background": "light"
     },
     "output_type": "display_data"
    }
   ],
   "source": [
    "most_important_values = list(cbow_most_important.values())\n",
    "most_important_features = list(cbow_most_important.keys())\n",
    "height = (most_important_values)\n",
    "bars = (most_important_features)\n",
    "plt.bar(bars, height)\n",
    "plt.title('Feature Importance - CBOW Logistic Regression')\n",
    "plt.xticks(rotation=90)\n",
    "plt.show()"
   ]
  },
  {
   "cell_type": "code",
   "execution_count": 108,
   "metadata": {},
   "outputs": [],
   "source": [
    "model = DecisionTreeClassifier()\n",
    "\n",
    "features = ngram_df.drop(columns = 'will_apply')\n",
    "labels = ngram_df['will_apply']\n",
    "\n",
    "dt_ngram = model.fit(features, labels)"
   ]
  },
  {
   "cell_type": "code",
   "execution_count": 110,
   "metadata": {},
   "outputs": [],
   "source": [
    "importance = dt_ngram.feature_importances_"
   ]
  },
  {
   "cell_type": "code",
   "execution_count": 111,
   "metadata": {},
   "outputs": [],
   "source": [
    "ngram_importance = dict(zip(features, importance))"
   ]
  },
  {
   "cell_type": "code",
   "execution_count": 119,
   "metadata": {},
   "outputs": [],
   "source": [
    "top_twenty = {}\n",
    "while len(top_twenty) < 21:\n",
    "    max_key = max(ngram_importance, key=ngram_importance.get)\n",
    "    max_value = max(ngram_importance.values())\n",
    "    top_twenty[max_key] = max_value\n",
    "    del ngram_importance[max_key]"
   ]
  },
  {
   "cell_type": "code",
   "execution_count": 120,
   "metadata": {},
   "outputs": [
    {
     "data": {
      "text/plain": [
       "{'temporarily due': 0.017554184134920006,\n",
       " 'inclusive accessible': 0.01645704762648752,\n",
       " 'required data': 0.014670091674784856,\n",
       " 'analytics team': 0.012857068458193366,\n",
       " 'written verbal': 0.012623303577135305,\n",
       " 'assignments assist': 0.01229513017654574,\n",
       " 'eoe minority': 0.012200552252110591,\n",
       " 'skills quick': 0.012107061430255469,\n",
       " 'interested exciting': 0.012014641113994109,\n",
       " 'order submission': 0.011923275021872279,\n",
       " 'development qc': 0.01183294718079756,\n",
       " 'privileges employment': 0.011743641919055768,\n",
       " 'administer execute': 0.01165534385951391,\n",
       " 'accounting projects': 0.01156803791300071,\n",
       " 'know customers': 0.010971365084325009,\n",
       " 'stakeholders business': 0.01079993750488243,\n",
       " 'data analysis': 0.01051941964761276,\n",
       " 'canada homes': 0.010285654766554696,\n",
       " 'nosql databases': 0.009874228575892506,\n",
       " 'support reporting': 0.009257089289899226,\n",
       " 'company helping': 0.008777092067460003}"
      ]
     },
     "execution_count": 120,
     "metadata": {},
     "output_type": "execute_result"
    }
   ],
   "source": [
    "top_twenty"
   ]
  },
  {
   "cell_type": "code",
   "execution_count": 121,
   "metadata": {
    "scrolled": false
   },
   "outputs": [
    {
     "data": {
      "image/png": "[encoded data removed]",
      "text/plain": [
       "<Figure size 432x288 with 1 Axes>"
      ]
     },
     "metadata": {
      "needs_background": "light"
     },
     "output_type": "display_data"
    }
   ],
   "source": [
    "most_important_values = list(top_twenty.values())\n",
    "most_important_features = list(top_twenty.keys())\n",
    "height = (most_important_values)\n",
    "bars = (most_important_features)\n",
    "plt.bar(bars, height)\n",
    "plt.title('Feature Importance - NGRAMS Decision Tree')\n",
    "plt.xticks(rotation=90)\n",
    "plt.show()"
   ]
  },
  {
   "cell_type": "code",
   "execution_count": null,
   "metadata": {},
   "outputs": [],
   "source": []
  }
 ],
 "metadata": {
  "kernelspec": {
   "display_name": "Python 3",
   "language": "python",
   "name": "python3"
  },
  "language_info": {
   "codemirror_mode": {
    "name": "ipython",
    "version": 3
   },
   "file_extension": ".py",
   "mimetype": "text/x-python",
   "name": "python",
   "nbconvert_exporter": "python",
   "pygments_lexer": "ipython3",
   "version": "3.6.12"
  }
 },
 "nbformat": 4,
 "nbformat_minor": 4
}
